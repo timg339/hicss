{
 "cells": [
  {
   "cell_type": "code",
   "execution_count": 1,
   "metadata": {
    "collapsed": true
   },
   "outputs": [],
   "source": [
    "from examples.envs.navigation import NavigationEnvironment\n",
    "from src.wrapper import RestrictionWrapper\n",
    "\n",
    "from pettingzoo.test import api_test, performance_benchmark, seed_test\n",
    "from gymnasium.spaces import Box"
   ]
  },
  {
   "cell_type": "markdown",
   "source": [
    "### Navigation Environment"
   ],
   "metadata": {
    "collapsed": false
   }
  },
  {
   "cell_type": "code",
   "execution_count": 2,
   "outputs": [
    {
     "name": "stdout",
     "output_type": "stream",
     "text": [
      "Starting API test\n",
      "Passed API test\n"
     ]
    },
    {
     "name": "stderr",
     "output_type": "stream",
     "text": [
      "/Users/tim/opt/miniconda3/envs/hicss/lib/python3.10/site-packages/pettingzoo/test/api_test.py:94: UserWarning: Observation is not NumPy array\n",
      "  warnings.warn(\"Observation is not NumPy array\")\n"
     ]
    }
   ],
   "source": [
    "api_test(NavigationEnvironment(), num_cycles=1000)"
   ],
   "metadata": {
    "collapsed": false
   }
  },
  {
   "cell_type": "code",
   "execution_count": 3,
   "outputs": [
    {
     "name": "stdout",
     "output_type": "stream",
     "text": [
      "Starting performance benchmark\n",
      "1954.8654903935128 turns per second\n",
      "1954.8654903935128 cycles per second\n",
      "Finished performance benchmark\n"
     ]
    }
   ],
   "source": [
    "performance_benchmark(NavigationEnvironment())"
   ],
   "metadata": {
    "collapsed": false
   }
  },
  {
   "cell_type": "code",
   "execution_count": 4,
   "outputs": [],
   "source": [
    "seed_test(NavigationEnvironment)"
   ],
   "metadata": {
    "collapsed": false
   }
  },
  {
   "cell_type": "markdown",
   "source": [
    "### Wrapper with Interval Restrictions"
   ],
   "metadata": {
    "collapsed": false
   }
  },
  {
   "cell_type": "code",
   "execution_count": 5,
   "outputs": [],
   "source": [
    "import numpy as np\n",
    "\n",
    "restricted_env = RestrictionWrapper(NavigationEnvironment(),\n",
    "                                    governance_observation_space=Box(0.0, 15.0, shape=(2,), dtype=np.float32),\n",
    "                                    governance_action_space=Box(0.0, 1.0, shape=(2,), dtype=np.float32))"
   ],
   "metadata": {
    "collapsed": false
   }
  },
  {
   "cell_type": "code",
   "execution_count": 6,
   "outputs": [
    {
     "name": "stdout",
     "output_type": "stream",
     "text": [
      "Starting API test\n",
      "Passed API test\n"
     ]
    },
    {
     "name": "stderr",
     "output_type": "stream",
     "text": [
      "/Users/tim/opt/miniconda3/envs/hicss/lib/python3.10/site-packages/pettingzoo/test/api_test.py:160: UserWarning: Observation space for each agent probably should be gymnasium.spaces.box or gymnasium.spaces.discrete\n",
      "  warnings.warn(\n",
      "/Users/tim/opt/miniconda3/envs/hicss/lib/python3.10/site-packages/pettingzoo/test/api_test.py:183: UserWarning: The class of observation spaces is different between two agents\n",
      "  warnings.warn(\n",
      "/Users/tim/opt/miniconda3/envs/hicss/lib/python3.10/site-packages/pettingzoo/test/api_test.py:192: UserWarning: Agents have different observation space sizes\n",
      "  warnings.warn(\"Agents have different observation space sizes\")\n"
     ]
    }
   ],
   "source": [
    "api_test(restricted_env, num_cycles=1000)"
   ],
   "metadata": {
    "collapsed": false
   }
  },
  {
   "cell_type": "code",
   "execution_count": 7,
   "outputs": [
    {
     "name": "stdout",
     "output_type": "stream",
     "text": [
      "Starting performance benchmark\n",
      "3116.3399385237853 turns per second\n",
      "1558.1699692618927 cycles per second\n",
      "Finished performance benchmark\n"
     ]
    }
   ],
   "source": [
    "performance_benchmark(restricted_env)"
   ],
   "metadata": {
    "collapsed": false
   }
  },
  {
   "cell_type": "code",
   "execution_count": 8,
   "outputs": [
    {
     "name": "stdout",
     "output_type": "stream",
     "text": [
      "gov_0\n",
      "(array([1., 1.], dtype=float32), 0.0, False, False, {})\n",
      "agent_0\n",
      "({'observation': array([ 1.,  1., 90., 45.,  0.,  0.], dtype=float32), 'restrictions': [1.0, 1.0]}, 0, False, False, {})\n",
      "gov_0\n",
      "(array([1., 2.], dtype=float32), 0.0, False, False, {})\n",
      "agent_0\n",
      "({'observation': array([ 1.      ,  2.      , 90.      , 47.72631 , 13.867256,  1.      ],\n",
      "      dtype=float32), 'restrictions': [2.0, 2.0]}, 0, False, False, {})\n"
     ]
    }
   ],
   "source": [
    "restricted_env.reset()\n",
    "print(restricted_env.agent_selection)\n",
    "print(restricted_env.last())\n",
    "restricted_env.step([1.0, 1.0])\n",
    "print(restricted_env.agent_selection)\n",
    "print(restricted_env.last())\n",
    "restricted_env.step([0.0])\n",
    "print(restricted_env.agent_selection)\n",
    "print(restricted_env.last())\n",
    "restricted_env.step([2.0, 2.0])\n",
    "print(restricted_env.agent_selection)\n",
    "print(restricted_env.last())"
   ],
   "metadata": {
    "collapsed": false
   }
  },
  {
   "cell_type": "code",
   "execution_count": null,
   "outputs": [],
   "source": [],
   "metadata": {
    "collapsed": false
   }
  }
 ],
 "metadata": {
  "kernelspec": {
   "display_name": "Python 3",
   "language": "python",
   "name": "python3"
  },
  "language_info": {
   "codemirror_mode": {
    "name": "ipython",
    "version": 2
   },
   "file_extension": ".py",
   "mimetype": "text/x-python",
   "name": "python",
   "nbconvert_exporter": "python",
   "pygments_lexer": "ipython2",
   "version": "2.7.6"
  }
 },
 "nbformat": 4,
 "nbformat_minor": 0
}
